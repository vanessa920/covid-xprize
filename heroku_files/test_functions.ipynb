{
 "cells": [
  {
   "cell_type": "markdown",
   "metadata": {},
   "source": [
    "To test if my prediction making pipline would work, I'm going to test it out in this notebook. \n",
    "\n",
    "There steps towards predicting are as follows:\n",
    "\n",
    "1. import a lengthy string of sentences as text data\n",
    "2. import TFIDF, NMF, and 4 models\n",
    "3. Use spacy and regex to preprocess\n",
    "4. Vectorize the string with tfidf.transform()\n",
    "5. Topic model using NMF.transform()\n",
    "6. \n"
   ]
  },
  {
   "cell_type": "code",
   "execution_count": 58,
   "metadata": {
    "execution": {
     "iopub.execute_input": "2020-10-28T01:23:06.600317Z",
     "iopub.status.busy": "2020-10-28T01:23:06.549190Z",
     "iopub.status.idle": "2020-10-28T01:23:06.699459Z",
     "shell.execute_reply": "2020-10-28T01:23:06.695785Z",
     "shell.execute_reply.started": "2020-10-28T01:23:06.597863Z"
    }
   },
   "outputs": [],
   "source": [
    "import pandas as pd"
   ]
  },
  {
   "cell_type": "code",
   "execution_count": 59,
   "metadata": {
    "execution": {
     "iopub.execute_input": "2020-10-28T01:23:06.761692Z",
     "iopub.status.busy": "2020-10-28T01:23:06.759859Z",
     "iopub.status.idle": "2020-10-28T01:23:06.975178Z",
     "shell.execute_reply": "2020-10-28T01:23:06.973426Z",
     "shell.execute_reply.started": "2020-10-28T01:23:06.761662Z"
    }
   },
   "outputs": [
    {
     "ename": "FileNotFoundError",
     "evalue": "[Errno 2] No such file or directory: 'text_examples.pkl'",
     "output_type": "error",
     "traceback": [
      "\u001b[0;31m---------------------------------------------------------------------------\u001b[0m",
      "\u001b[0;31mFileNotFoundError\u001b[0m                         Traceback (most recent call last)",
      "\u001b[0;32m<ipython-input-59-932d704bba7b>\u001b[0m in \u001b[0;36m<module>\u001b[0;34m\u001b[0m\n\u001b[0;32m----> 1\u001b[0;31m \u001b[0mtext_examples\u001b[0m \u001b[0;34m=\u001b[0m \u001b[0mpd\u001b[0m\u001b[0;34m.\u001b[0m\u001b[0mread_pickle\u001b[0m\u001b[0;34m(\u001b[0m\u001b[0;34m'text_examples.pkl'\u001b[0m\u001b[0;34m)\u001b[0m\u001b[0;34m\u001b[0m\u001b[0;34m\u001b[0m\u001b[0m\n\u001b[0m",
      "\u001b[0;32m~/opt/anaconda3/envs/metis/lib/python3.8/site-packages/pandas/io/pickle.py\u001b[0m in \u001b[0;36mread_pickle\u001b[0;34m(filepath_or_buffer, compression)\u001b[0m\n\u001b[1;32m    167\u001b[0m     \u001b[0;32mif\u001b[0m \u001b[0;32mnot\u001b[0m \u001b[0misinstance\u001b[0m\u001b[0;34m(\u001b[0m\u001b[0mfp_or_buf\u001b[0m\u001b[0;34m,\u001b[0m \u001b[0mstr\u001b[0m\u001b[0;34m)\u001b[0m \u001b[0;32mand\u001b[0m \u001b[0mcompression\u001b[0m \u001b[0;34m==\u001b[0m \u001b[0;34m\"infer\"\u001b[0m\u001b[0;34m:\u001b[0m\u001b[0;34m\u001b[0m\u001b[0;34m\u001b[0m\u001b[0m\n\u001b[1;32m    168\u001b[0m         \u001b[0mcompression\u001b[0m \u001b[0;34m=\u001b[0m \u001b[0;32mNone\u001b[0m\u001b[0;34m\u001b[0m\u001b[0;34m\u001b[0m\u001b[0m\n\u001b[0;32m--> 169\u001b[0;31m     \u001b[0mf\u001b[0m\u001b[0;34m,\u001b[0m \u001b[0mfh\u001b[0m \u001b[0;34m=\u001b[0m \u001b[0mget_handle\u001b[0m\u001b[0;34m(\u001b[0m\u001b[0mfp_or_buf\u001b[0m\u001b[0;34m,\u001b[0m \u001b[0;34m\"rb\"\u001b[0m\u001b[0;34m,\u001b[0m \u001b[0mcompression\u001b[0m\u001b[0;34m=\u001b[0m\u001b[0mcompression\u001b[0m\u001b[0;34m,\u001b[0m \u001b[0mis_text\u001b[0m\u001b[0;34m=\u001b[0m\u001b[0;32mFalse\u001b[0m\u001b[0;34m)\u001b[0m\u001b[0;34m\u001b[0m\u001b[0;34m\u001b[0m\u001b[0m\n\u001b[0m\u001b[1;32m    170\u001b[0m \u001b[0;34m\u001b[0m\u001b[0m\n\u001b[1;32m    171\u001b[0m     \u001b[0;31m# 1) try standard library Pickle\u001b[0m\u001b[0;34m\u001b[0m\u001b[0;34m\u001b[0m\u001b[0;34m\u001b[0m\u001b[0m\n",
      "\u001b[0;32m~/opt/anaconda3/envs/metis/lib/python3.8/site-packages/pandas/io/common.py\u001b[0m in \u001b[0;36mget_handle\u001b[0;34m(path_or_buf, mode, encoding, compression, memory_map, is_text, errors)\u001b[0m\n\u001b[1;32m    497\u001b[0m         \u001b[0;32melse\u001b[0m\u001b[0;34m:\u001b[0m\u001b[0;34m\u001b[0m\u001b[0;34m\u001b[0m\u001b[0m\n\u001b[1;32m    498\u001b[0m             \u001b[0;31m# Binary mode\u001b[0m\u001b[0;34m\u001b[0m\u001b[0;34m\u001b[0m\u001b[0;34m\u001b[0m\u001b[0m\n\u001b[0;32m--> 499\u001b[0;31m             \u001b[0mf\u001b[0m \u001b[0;34m=\u001b[0m \u001b[0mopen\u001b[0m\u001b[0;34m(\u001b[0m\u001b[0mpath_or_buf\u001b[0m\u001b[0;34m,\u001b[0m \u001b[0mmode\u001b[0m\u001b[0;34m)\u001b[0m\u001b[0;34m\u001b[0m\u001b[0;34m\u001b[0m\u001b[0m\n\u001b[0m\u001b[1;32m    500\u001b[0m         \u001b[0mhandles\u001b[0m\u001b[0;34m.\u001b[0m\u001b[0mappend\u001b[0m\u001b[0;34m(\u001b[0m\u001b[0mf\u001b[0m\u001b[0;34m)\u001b[0m\u001b[0;34m\u001b[0m\u001b[0;34m\u001b[0m\u001b[0m\n\u001b[1;32m    501\u001b[0m \u001b[0;34m\u001b[0m\u001b[0m\n",
      "\u001b[0;31mFileNotFoundError\u001b[0m: [Errno 2] No such file or directory: 'text_examples.pkl'"
     ]
    }
   ],
   "source": [
    "\n",
    "text_examples = pd.read_pickle('text_examples.pkl')"
   ]
  },
  {
   "cell_type": "code",
   "execution_count": 128,
   "metadata": {
    "execution": {
     "iopub.execute_input": "2020-10-28T02:27:06.302875Z",
     "iopub.status.busy": "2020-10-28T02:27:06.302633Z",
     "iopub.status.idle": "2020-10-28T02:27:06.306118Z",
     "shell.execute_reply": "2020-10-28T02:27:06.305351Z",
     "shell.execute_reply.started": "2020-10-28T02:27:06.302850Z"
    }
   },
   "outputs": [],
   "source": [
    "text = '''\n",
    "I'm Jay, nice to see everyone! I was born and raised in Korea and am currently living in the Boston area. I have a bachelor's in biology from Rice University and a PhD in molecular genetics and neuroscience from MIT. My research was almost entirely experimental though, so I am quite new to things like coding, large datasets, quantitative modeling, etc... a bit intimidated honestly! But my preliminary forays into data and programming have been a blast and I hope to get the most out of Metis. Outside of work, I spend my time reading personal finance books/blogs, and occasionally dabbling in music production.\n",
    "'''"
   ]
  },
  {
   "cell_type": "markdown",
   "metadata": {},
   "source": [
    "# Import models and transformations"
   ]
  },
  {
   "cell_type": "code",
   "execution_count": 129,
   "metadata": {
    "execution": {
     "iopub.execute_input": "2020-10-28T02:27:07.190124Z",
     "iopub.status.busy": "2020-10-28T02:27:07.189909Z",
     "iopub.status.idle": "2020-10-28T02:27:07.194304Z",
     "shell.execute_reply": "2020-10-28T02:27:07.193697Z",
     "shell.execute_reply.started": "2020-10-28T02:27:07.190100Z"
    }
   },
   "outputs": [],
   "source": [
    "import pandas as pd\n",
    "EI = pd.read_pickle('pickled_models/EI_Logistic Reg.pkl')\n",
    "NS = pd.read_pickle('pickled_models/NS_Logistic Reg.pkl')\n",
    "FT = pd.read_pickle('pickled_models/FT_Logistic Reg.pkl')\n",
    "PJ = pd.read_pickle('pickled_models/PJ_Logistic Reg.pkl')"
   ]
  },
  {
   "cell_type": "code",
   "execution_count": 130,
   "metadata": {
    "execution": {
     "iopub.execute_input": "2020-10-28T02:27:08.103051Z",
     "iopub.status.busy": "2020-10-28T02:27:08.102837Z",
     "iopub.status.idle": "2020-10-28T02:27:08.128444Z",
     "shell.execute_reply": "2020-10-28T02:27:08.127900Z",
     "shell.execute_reply.started": "2020-10-28T02:27:08.103027Z"
    }
   },
   "outputs": [],
   "source": [
    "tfidf = pd.read_pickle('pickled_transformations/tfidf.pkl')\n",
    "TopicModel = pd.read_pickle('pickled_transformations/NMF.pkl')"
   ]
  },
  {
   "cell_type": "markdown",
   "metadata": {},
   "source": [
    "# SpaCy and Regex preprocessing"
   ]
  },
  {
   "cell_type": "code",
   "execution_count": 131,
   "metadata": {
    "execution": {
     "iopub.execute_input": "2020-10-28T02:27:09.161491Z",
     "iopub.status.busy": "2020-10-28T02:27:09.161275Z",
     "iopub.status.idle": "2020-10-28T02:27:09.765934Z",
     "shell.execute_reply": "2020-10-28T02:27:09.765328Z",
     "shell.execute_reply.started": "2020-10-28T02:27:09.161468Z"
    }
   },
   "outputs": [],
   "source": [
    "import spacy\n",
    "import re\n",
    "import string\n",
    "import matplotlib.pyplot as plt\n",
    "# Create our list of punctuation marks\n",
    "punctuations = string.punctuation\n",
    "\n",
    "# Load English tokenizer, tagger, parser, NER and word vectors\n",
    "parser = spacy.load('en_core_web_sm')\n",
    "\n",
    "# Create our list of stopwords\n",
    "stop_words = spacy.lang.en.stop_words.STOP_WORDS\n",
    "\n",
    "# Creating our tokenizer function\n",
    "def spacy_tokenizer(sentence):\n",
    "    # Creating our token object, which is used to create documents with linguistic annotations.\n",
    "    mytokens = parser(sentence)\n",
    "    \n",
    "    # Lemmatizing each token and converting each token into lowercase\n",
    "    mytokens = [ word.lemma_.lower().strip() if word.lemma_ != \"-PRON-\" else word.lower_ for word in mytokens ]\n",
    "    \n",
    "    # Removing stop words\n",
    "    mytokens = [ word for word in mytokens if word not in stop_words and word not in punctuations ]\n",
    "    \n",
    "    # return preprocessed list of tokens\n",
    "    return ' '.join(mytokens)\n",
    "alphanumeric = lambda x: re.sub('\\w*\\d\\w*', '', x)\n",
    "punc_lower = lambda x: re.sub('[%s]' % re.escape(string.punctuation), '', x.lower())"
   ]
  },
  {
   "cell_type": "code",
   "execution_count": 132,
   "metadata": {
    "execution": {
     "iopub.execute_input": "2020-10-28T02:27:09.782824Z",
     "iopub.status.busy": "2020-10-28T02:27:09.782612Z",
     "iopub.status.idle": "2020-10-28T02:27:09.819373Z",
     "shell.execute_reply": "2020-10-28T02:27:09.818799Z",
     "shell.execute_reply.started": "2020-10-28T02:27:09.782801Z"
    }
   },
   "outputs": [],
   "source": [
    "new_text = pd.Series(text).apply(spacy_tokenizer).map(alphanumeric).map(punc_lower)"
   ]
  },
  {
   "cell_type": "markdown",
   "metadata": {},
   "source": [
    "# TF-IDF text"
   ]
  },
  {
   "cell_type": "code",
   "execution_count": 133,
   "metadata": {
    "execution": {
     "iopub.execute_input": "2020-10-28T02:27:11.140091Z",
     "iopub.status.busy": "2020-10-28T02:27:11.139859Z",
     "iopub.status.idle": "2020-10-28T02:27:11.144604Z",
     "shell.execute_reply": "2020-10-28T02:27:11.143908Z",
     "shell.execute_reply.started": "2020-10-28T02:27:11.140067Z"
    }
   },
   "outputs": [],
   "source": [
    "X_test_tfidf = tfidf.transform(pd.Series(new_text))"
   ]
  },
  {
   "cell_type": "code",
   "execution_count": 134,
   "metadata": {
    "execution": {
     "iopub.execute_input": "2020-10-28T02:27:11.668495Z",
     "iopub.status.busy": "2020-10-28T02:27:11.668277Z",
     "iopub.status.idle": "2020-10-28T02:27:11.691740Z",
     "shell.execute_reply": "2020-10-28T02:27:11.691096Z",
     "shell.execute_reply.started": "2020-10-28T02:27:11.668472Z"
    }
   },
   "outputs": [
    {
     "data": {
      "text/html": [
       "<div>\n",
       "<style scoped>\n",
       "    .dataframe tbody tr th:only-of-type {\n",
       "        vertical-align: middle;\n",
       "    }\n",
       "\n",
       "    .dataframe tbody tr th {\n",
       "        vertical-align: top;\n",
       "    }\n",
       "\n",
       "    .dataframe thead th {\n",
       "        text-align: right;\n",
       "    }\n",
       "</style>\n",
       "<table border=\"1\" class=\"dataframe\">\n",
       "  <thead>\n",
       "    <tr style=\"text-align: right;\">\n",
       "      <th></th>\n",
       "      <th>abandon</th>\n",
       "      <th>ability</th>\n",
       "      <th>able</th>\n",
       "      <th>abnormal</th>\n",
       "      <th>abortion</th>\n",
       "      <th>abroad</th>\n",
       "      <th>absence</th>\n",
       "      <th>absent</th>\n",
       "      <th>absolute</th>\n",
       "      <th>absolutely</th>\n",
       "      <th>...</th>\n",
       "      <th>youtube</th>\n",
       "      <th>yr</th>\n",
       "      <th>yrs</th>\n",
       "      <th>yup</th>\n",
       "      <th>zelda</th>\n",
       "      <th>zen</th>\n",
       "      <th>zero</th>\n",
       "      <th>zodiac</th>\n",
       "      <th>zombie</th>\n",
       "      <th>zone</th>\n",
       "    </tr>\n",
       "  </thead>\n",
       "  <tbody>\n",
       "    <tr>\n",
       "      <th>0</th>\n",
       "      <td>0.0</td>\n",
       "      <td>0.0</td>\n",
       "      <td>0.0</td>\n",
       "      <td>0.0</td>\n",
       "      <td>0.0</td>\n",
       "      <td>0.0</td>\n",
       "      <td>0.0</td>\n",
       "      <td>0.0</td>\n",
       "      <td>0.0</td>\n",
       "      <td>0.0</td>\n",
       "      <td>...</td>\n",
       "      <td>0.0</td>\n",
       "      <td>0.0</td>\n",
       "      <td>0.0</td>\n",
       "      <td>0.0</td>\n",
       "      <td>0.0</td>\n",
       "      <td>0.0</td>\n",
       "      <td>0.0</td>\n",
       "      <td>0.0</td>\n",
       "      <td>0.0</td>\n",
       "      <td>0.0</td>\n",
       "    </tr>\n",
       "  </tbody>\n",
       "</table>\n",
       "<p>1 rows × 5000 columns</p>\n",
       "</div>"
      ],
      "text/plain": [
       "   abandon  ability  able  abnormal  abortion  abroad  absence  absent  \\\n",
       "0      0.0      0.0   0.0       0.0       0.0     0.0      0.0     0.0   \n",
       "\n",
       "   absolute  absolutely  ...  youtube   yr  yrs  yup  zelda  zen  zero  \\\n",
       "0       0.0         0.0  ...      0.0  0.0  0.0  0.0    0.0  0.0   0.0   \n",
       "\n",
       "   zodiac  zombie  zone  \n",
       "0     0.0     0.0   0.0  \n",
       "\n",
       "[1 rows x 5000 columns]"
      ]
     },
     "execution_count": 134,
     "metadata": {},
     "output_type": "execute_result"
    }
   ],
   "source": [
    "pd.DataFrame(X_test_tfidf.toarray(), columns=tfidf.get_feature_names())"
   ]
  },
  {
   "cell_type": "markdown",
   "metadata": {},
   "source": [
    "# Topic Modeling"
   ]
  },
  {
   "cell_type": "code",
   "execution_count": 135,
   "metadata": {
    "execution": {
     "iopub.execute_input": "2020-10-28T02:27:12.788651Z",
     "iopub.status.busy": "2020-10-28T02:27:12.788438Z",
     "iopub.status.idle": "2020-10-28T02:27:12.792751Z",
     "shell.execute_reply": "2020-10-28T02:27:12.792011Z",
     "shell.execute_reply.started": "2020-10-28T02:27:12.788627Z"
    }
   },
   "outputs": [],
   "source": [
    "def display_topics(model, feature_names, no_top_words, topic_names=None):\n",
    "    \"\"\"\n",
    "    Takes in model and feature names and outputs \n",
    "    a list of string of the top words from each topic.\n",
    "    \"\"\"\n",
    "    topics = []\n",
    "    for ix, topic in enumerate(model.components_):\n",
    "        topics.append(str(\", \".join([feature_names[i]\n",
    "                        for i in topic.argsort()[:-no_top_words - 1:-1]])))\n",
    "    return topics"
   ]
  },
  {
   "cell_type": "code",
   "execution_count": 136,
   "metadata": {
    "execution": {
     "iopub.execute_input": "2020-10-28T02:27:13.321389Z",
     "iopub.status.busy": "2020-10-28T02:27:13.321176Z",
     "iopub.status.idle": "2020-10-28T02:27:13.336845Z",
     "shell.execute_reply": "2020-10-28T02:27:13.336260Z",
     "shell.execute_reply.started": "2020-10-28T02:27:13.321365Z"
    }
   },
   "outputs": [],
   "source": [
    "topics = display_topics(TopicModel, tfidf.get_feature_names(), 3)"
   ]
  },
  {
   "cell_type": "code",
   "execution_count": 137,
   "metadata": {
    "execution": {
     "iopub.execute_input": "2020-10-28T02:27:13.807498Z",
     "iopub.status.busy": "2020-10-28T02:27:13.807285Z",
     "iopub.status.idle": "2020-10-28T02:27:13.816027Z",
     "shell.execute_reply": "2020-10-28T02:27:13.815350Z",
     "shell.execute_reply.started": "2020-10-28T02:27:13.807475Z"
    }
   },
   "outputs": [],
   "source": [
    "topic_word = pd.DataFrame(TopicModel.components_.round(3),\n",
    "             index =  topics,\n",
    "             columns = tfidf.get_feature_names())"
   ]
  },
  {
   "cell_type": "code",
   "execution_count": 138,
   "metadata": {
    "execution": {
     "iopub.execute_input": "2020-10-28T02:27:14.339917Z",
     "iopub.status.busy": "2020-10-28T02:27:14.339697Z",
     "iopub.status.idle": "2020-10-28T02:27:14.385937Z",
     "shell.execute_reply": "2020-10-28T02:27:14.385029Z",
     "shell.execute_reply.started": "2020-10-28T02:27:14.339893Z"
    }
   },
   "outputs": [],
   "source": [
    "X_test_topic_array = TopicModel.transform(pd.DataFrame(X_test_tfidf.toarray(), columns=tfidf.get_feature_names()))"
   ]
  },
  {
   "cell_type": "code",
   "execution_count": 139,
   "metadata": {
    "execution": {
     "iopub.execute_input": "2020-10-28T02:27:14.967903Z",
     "iopub.status.busy": "2020-10-28T02:27:14.967680Z",
     "iopub.status.idle": "2020-10-28T02:27:14.971258Z",
     "shell.execute_reply": "2020-10-28T02:27:14.970548Z",
     "shell.execute_reply.started": "2020-10-28T02:27:14.967878Z"
    }
   },
   "outputs": [],
   "source": [
    "X_test_topics = pd.DataFrame(X_test_topic_array.round(5),\n",
    "             columns = topics)"
   ]
  },
  {
   "cell_type": "code",
   "execution_count": 140,
   "metadata": {
    "execution": {
     "iopub.execute_input": "2020-10-28T02:27:15.499584Z",
     "iopub.status.busy": "2020-10-28T02:27:15.499368Z",
     "iopub.status.idle": "2020-10-28T02:27:15.504153Z",
     "shell.execute_reply": "2020-10-28T02:27:15.503458Z",
     "shell.execute_reply.started": "2020-10-28T02:27:15.499561Z"
    }
   },
   "outputs": [
    {
     "data": {
      "text/plain": [
       "RangeIndex(start=0, stop=1, step=1)"
      ]
     },
     "execution_count": 140,
     "metadata": {},
     "output_type": "execute_result"
    }
   ],
   "source": [
    "X_test_topics.T.columns"
   ]
  },
  {
   "cell_type": "code",
   "execution_count": 168,
   "metadata": {
    "execution": {
     "iopub.execute_input": "2020-10-28T03:11:59.703824Z",
     "iopub.status.busy": "2020-10-28T03:11:59.703604Z",
     "iopub.status.idle": "2020-10-28T03:11:59.709618Z",
     "shell.execute_reply": "2020-10-28T03:11:59.708894Z",
     "shell.execute_reply.started": "2020-10-28T03:11:59.703800Z"
    }
   },
   "outputs": [
    {
     "data": {
      "text/plain": [
       "like, feel, sound      0.00600\n",
       "movie, book, watch     0.01348\n",
       "school, high, year     0.01771\n",
       "music, song, listen    0.02239\n",
       "work, job, good        0.03068\n",
       "Name: 0, dtype: float64"
      ]
     },
     "execution_count": 168,
     "metadata": {},
     "output_type": "execute_result"
    }
   ],
   "source": [
    " X_test_topics.T.sort_values(0).tail()[0]"
   ]
  },
  {
   "cell_type": "code",
   "execution_count": 143,
   "metadata": {
    "execution": {
     "iopub.execute_input": "2020-10-28T02:27:43.453704Z",
     "iopub.status.busy": "2020-10-28T02:27:43.453476Z",
     "iopub.status.idle": "2020-10-28T02:27:43.461064Z",
     "shell.execute_reply": "2020-10-28T02:27:43.460395Z",
     "shell.execute_reply.started": "2020-10-28T02:27:43.453679Z"
    }
   },
   "outputs": [
    {
     "data": {
      "text/html": [
       "<div>\n",
       "<style scoped>\n",
       "    .dataframe tbody tr th:only-of-type {\n",
       "        vertical-align: middle;\n",
       "    }\n",
       "\n",
       "    .dataframe tbody tr th {\n",
       "        vertical-align: top;\n",
       "    }\n",
       "\n",
       "    .dataframe thead th {\n",
       "        text-align: right;\n",
       "    }\n",
       "</style>\n",
       "<table border=\"1\" class=\"dataframe\">\n",
       "  <thead>\n",
       "    <tr style=\"text-align: right;\">\n",
       "      <th></th>\n",
       "      <th>0</th>\n",
       "    </tr>\n",
       "  </thead>\n",
       "  <tbody>\n",
       "    <tr>\n",
       "      <th>work, job, good</th>\n",
       "      <td>0.03068</td>\n",
       "    </tr>\n",
       "    <tr>\n",
       "      <th>music, song, listen</th>\n",
       "      <td>0.02239</td>\n",
       "    </tr>\n",
       "    <tr>\n",
       "      <th>school, high, year</th>\n",
       "      <td>0.01771</td>\n",
       "    </tr>\n",
       "    <tr>\n",
       "      <th>movie, book, watch</th>\n",
       "      <td>0.01348</td>\n",
       "    </tr>\n",
       "    <tr>\n",
       "      <th>like, feel, sound</th>\n",
       "      <td>0.00600</td>\n",
       "    </tr>\n",
       "  </tbody>\n",
       "</table>\n",
       "</div>"
      ],
      "text/plain": [
       "                           0\n",
       "work, job, good      0.03068\n",
       "music, song, listen  0.02239\n",
       "school, high, year   0.01771\n",
       "movie, book, watch   0.01348\n",
       "like, feel, sound    0.00600"
      ]
     },
     "execution_count": 143,
     "metadata": {},
     "output_type": "execute_result"
    }
   ],
   "source": [
    "X_test_topics.T.sort_values(0, ascending=False).head()"
   ]
  },
  {
   "cell_type": "code",
   "execution_count": 170,
   "metadata": {
    "execution": {
     "iopub.execute_input": "2020-10-28T03:12:32.553488Z",
     "iopub.status.busy": "2020-10-28T03:12:32.553275Z",
     "iopub.status.idle": "2020-10-28T03:12:32.559048Z",
     "shell.execute_reply": "2020-10-28T03:12:32.558216Z",
     "shell.execute_reply.started": "2020-10-28T03:12:32.553465Z"
    }
   },
   "outputs": [
    {
     "data": {
      "text/plain": [
       "Index(['like, feel, sound', 'movie, book, watch', 'school, high, year',\n",
       "       'music, song, listen', 'work, job, good'],\n",
       "      dtype='object')"
      ]
     },
     "execution_count": 170,
     "metadata": {},
     "output_type": "execute_result"
    }
   ],
   "source": [
    "X_test_topics.T.sort_values(0).tail().index"
   ]
  },
  {
   "cell_type": "code",
   "execution_count": 172,
   "metadata": {
    "execution": {
     "iopub.execute_input": "2020-10-28T03:12:51.817978Z",
     "iopub.status.busy": "2020-10-28T03:12:51.817759Z",
     "iopub.status.idle": "2020-10-28T03:12:51.961998Z",
     "shell.execute_reply": "2020-10-28T03:12:51.961431Z",
     "shell.execute_reply.started": "2020-10-28T03:12:51.817955Z"
    }
   },
   "outputs": [
    {
     "data": {
      "text/plain": [
       "<BarContainer object of 5 artists>"
      ]
     },
     "execution_count": 172,
     "metadata": {},
     "output_type": "execute_result"
    },
    {
     "data": {
      "image/png": "[encoded data removed]",
      "text/plain": [
       "<Figure size 432x288 with 1 Axes>"
      ]
     },
     "metadata": {
      "needs_background": "light"
     },
     "output_type": "display_data"
    }
   ],
   "source": [
    "plt.barh(X_test_topics.T.sort_values(0).tail().index, X_test_topics.T.sort_values(0).tail()[0])"
   ]
  },
  {
   "cell_type": "code",
   "execution_count": 124,
   "metadata": {
    "execution": {
     "iopub.execute_input": "2020-10-28T02:26:09.955288Z",
     "iopub.status.busy": "2020-10-28T02:26:09.955060Z",
     "iopub.status.idle": "2020-10-28T02:26:09.967039Z",
     "shell.execute_reply": "2020-10-28T02:26:09.966357Z",
     "shell.execute_reply.started": "2020-10-28T02:26:09.955262Z"
    }
   },
   "outputs": [],
   "source": [
    "pred_list = []\n",
    "if EI.predict(X_test_topics) == 1:\n",
    "    pred_list.append('E')\n",
    "else:\n",
    "    pred_list.append('I')\n",
    "if NS.predict(X_test_topics) == 1:\n",
    "    pred_list.append('N')\n",
    "else:\n",
    "    pred_list.append('S')\n",
    "if FT.predict(X_test_topics) == 1:\n",
    "    pred_list.append('F')\n",
    "else:\n",
    "    pred_list.append('T')\n",
    "if PJ.predict(X_test_topics) == 1:\n",
    "    prediction.append('P')\n",
    "else:\n",
    "    prediction.append('J')\n",
    "prediction = ''.join(pred_list)"
   ]
  },
  {
   "cell_type": "code",
   "execution_count": 125,
   "metadata": {
    "execution": {
     "iopub.execute_input": "2020-10-28T02:26:15.778158Z",
     "iopub.status.busy": "2020-10-28T02:26:15.777941Z",
     "iopub.status.idle": "2020-10-28T02:26:15.788309Z",
     "shell.execute_reply": "2020-10-28T02:26:15.787255Z",
     "shell.execute_reply.started": "2020-10-28T02:26:15.778134Z"
    }
   },
   "outputs": [
    {
     "ename": "TypeError",
     "evalue": "'module' object is not callable",
     "output_type": "error",
     "traceback": [
      "\u001b[0;31m---------------------------------------------------------------------------\u001b[0m",
      "\u001b[0;31mTypeError\u001b[0m                                 Traceback (most recent call last)",
      "\u001b[0;32m<ipython-input-125-d5d7515bc067>\u001b[0m in \u001b[0;36m<module>\u001b[0;34m\u001b[0m\n\u001b[1;32m      1\u001b[0m \u001b[0;32mimport\u001b[0m \u001b[0mtime\u001b[0m\u001b[0;34m\u001b[0m\u001b[0;34m\u001b[0m\u001b[0m\n\u001b[0;32m----> 2\u001b[0;31m \u001b[0mprint\u001b[0m\u001b[0;34m(\u001b[0m\u001b[0mtime\u001b[0m\u001b[0;34m(\u001b[0m\u001b[0;34m)\u001b[0m\u001b[0;34m)\u001b[0m\u001b[0;34m\u001b[0m\u001b[0;34m\u001b[0m\u001b[0m\n\u001b[0m",
      "\u001b[0;31mTypeError\u001b[0m: 'module' object is not callable"
     ]
    }
   ],
   "source": [
    "import time\n",
    "print(time())"
   ]
  },
  {
   "cell_type": "code",
   "execution_count": 126,
   "metadata": {
    "execution": {
     "iopub.execute_input": "2020-10-28T02:26:23.260109Z",
     "iopub.status.busy": "2020-10-28T02:26:23.259900Z",
     "iopub.status.idle": "2020-10-28T02:26:23.263830Z",
     "shell.execute_reply": "2020-10-28T02:26:23.263225Z",
     "shell.execute_reply.started": "2020-10-28T02:26:23.260085Z"
    }
   },
   "outputs": [
    {
     "data": {
      "text/plain": [
       "'ISTP'"
      ]
     },
     "execution_count": 126,
     "metadata": {},
     "output_type": "execute_result"
    }
   ],
   "source": [
    "prediction "
   ]
  },
  {
   "cell_type": "code",
   "execution_count": 75,
   "metadata": {
    "execution": {
     "iopub.execute_input": "2020-10-28T01:23:16.038922Z",
     "iopub.status.busy": "2020-10-28T01:23:16.038704Z",
     "iopub.status.idle": "2020-10-28T01:23:16.580201Z",
     "shell.execute_reply": "2020-10-28T01:23:16.579691Z",
     "shell.execute_reply.started": "2020-10-28T01:23:16.038898Z"
    }
   },
   "outputs": [
    {
     "data": {
      "image/png": "[encoded data removed]",
      "text/plain": [
       "<Figure size 720x720 with 1 Axes>"
      ]
     },
     "metadata": {
      "needs_background": "light"
     },
     "output_type": "display_data"
    }
   ],
   "source": [
    "# Generate WordCloud\n",
    "from wordcloud import WordCloud \n",
    "\n",
    "# Generate a word cloud image\n",
    "wordcloud = WordCloud(width = 1000, height = 1000,\n",
    "                background_color ='white',\n",
    "                min_font_size = 20).generate(new_text[0])\n",
    "\n",
    "# Display the generated image:\n",
    "# the matplotlib way:\n",
    "fig = plt.figure(figsize=(10,10))\n",
    "plt.imshow(wordcloud, interpolation='bilinear')\n",
    "plt.axis(\"off\")\n",
    "plt.show()"
   ]
  },
  {
   "cell_type": "markdown",
   "metadata": {},
   "source": [
    "# Appendix"
   ]
  },
  {
   "cell_type": "markdown",
   "metadata": {},
   "source": [
    "Writing styles. "
   ]
  },
  {
   "cell_type": "code",
   "execution_count": 97,
   "metadata": {
    "execution": {
     "iopub.execute_input": "2020-10-26T06:37:12.162636Z",
     "iopub.status.busy": "2020-10-26T06:37:12.162404Z",
     "iopub.status.idle": "2020-10-26T06:37:12.165842Z",
     "shell.execute_reply": "2020-10-26T06:37:12.165108Z",
     "shell.execute_reply.started": "2020-10-26T06:37:12.162612Z"
    }
   },
   "outputs": [],
   "source": [
    "text = pd.DataFrame([text])"
   ]
  },
  {
   "cell_type": "code",
   "execution_count": 98,
   "metadata": {
    "execution": {
     "iopub.execute_input": "2020-10-26T06:37:13.888786Z",
     "iopub.status.busy": "2020-10-26T06:37:13.888571Z",
     "iopub.status.idle": "2020-10-26T06:37:13.893526Z",
     "shell.execute_reply": "2020-10-26T06:37:13.892864Z",
     "shell.execute_reply.started": "2020-10-26T06:37:13.888763Z"
    }
   },
   "outputs": [
    {
     "data": {
      "text/plain": [
       "0    What has been the most life-changing experienc...\n",
       "dtype: object"
      ]
     },
     "execution_count": 98,
     "metadata": {},
     "output_type": "execute_result"
    }
   ],
   "source": [
    "pd.Series(text_examples[0])"
   ]
  },
  {
   "cell_type": "code",
   "execution_count": 33,
   "metadata": {
    "execution": {
     "iopub.execute_input": "2020-10-26T05:16:02.247478Z",
     "iopub.status.busy": "2020-10-26T05:16:02.247234Z",
     "iopub.status.idle": "2020-10-26T05:16:02.253634Z",
     "shell.execute_reply": "2020-10-26T05:16:02.252808Z",
     "shell.execute_reply.started": "2020-10-26T05:16:02.247447Z"
    }
   },
   "outputs": [
    {
     "data": {
      "text/plain": [
       "0    What has been the most life-changing experienc...\n",
       "dtype: object"
      ]
     },
     "execution_count": 33,
     "metadata": {},
     "output_type": "execute_result"
    }
   ],
   "source": [
    "pd.Series(text)"
   ]
  },
  {
   "cell_type": "code",
   "execution_count": 35,
   "metadata": {
    "execution": {
     "iopub.execute_input": "2020-10-26T05:16:26.268150Z",
     "iopub.status.busy": "2020-10-26T05:16:26.267934Z",
     "iopub.status.idle": "2020-10-26T05:16:26.271001Z",
     "shell.execute_reply": "2020-10-26T05:16:26.270178Z",
     "shell.execute_reply.started": "2020-10-26T05:16:26.268127Z"
    }
   },
   "outputs": [],
   "source": [
    "text1 = 'I am Brian'"
   ]
  },
  {
   "cell_type": "code",
   "execution_count": 181,
   "metadata": {
    "execution": {
     "iopub.execute_input": "2020-10-28T05:36:34.554479Z",
     "iopub.status.busy": "2020-10-28T05:36:34.554260Z",
     "iopub.status.idle": "2020-10-28T05:36:34.679653Z",
     "shell.execute_reply": "2020-10-28T05:36:34.678834Z",
     "shell.execute_reply.started": "2020-10-28T05:36:34.554455Z"
    }
   },
   "outputs": [
    {
     "data": {
      "text/plain": [
       "<matplotlib.axes._subplots.AxesSubplot at 0x7f9fa587e580>"
      ]
     },
     "execution_count": 181,
     "metadata": {},
     "output_type": "execute_result"
    },
    {
     "data": {
      "image/png": "[encoded data removed]",
      "text/plain": [
       "<Figure size 432x288 with 1 Axes>"
      ]
     },
     "metadata": {
      "needs_background": "light"
     },
     "output_type": "display_data"
    }
   ],
   "source": [
    "sns.barplot(['I','N','F','P'],[.77,.86,.54,.60], color='blue')"
   ]
  },
  {
   "cell_type": "code",
   "execution_count": 189,
   "metadata": {
    "execution": {
     "iopub.execute_input": "2020-10-28T05:48:25.653204Z",
     "iopub.status.busy": "2020-10-28T05:48:25.652970Z",
     "iopub.status.idle": "2020-10-28T05:48:25.657414Z",
     "shell.execute_reply": "2020-10-28T05:48:25.656537Z",
     "shell.execute_reply.started": "2020-10-28T05:48:25.653176Z"
    }
   },
   "outputs": [],
   "source": [
    "classifier = ['majority class']*4 + ['model accuracy']*4"
   ]
  },
  {
   "cell_type": "code",
   "execution_count": 214,
   "metadata": {
    "execution": {
     "iopub.execute_input": "2020-10-28T06:01:22.384445Z",
     "iopub.status.busy": "2020-10-28T06:01:22.384256Z",
     "iopub.status.idle": "2020-10-28T06:01:22.387276Z",
     "shell.execute_reply": "2020-10-28T06:01:22.386563Z",
     "shell.execute_reply.started": "2020-10-28T06:01:22.384426Z"
    }
   },
   "outputs": [],
   "source": [
    "letter = ['I vs E','N vs S','F vs T','P vs J','I vs E','N vs S','F vs T','P vs J']"
   ]
  },
  {
   "cell_type": "code",
   "execution_count": 215,
   "metadata": {
    "execution": {
     "iopub.execute_input": "2020-10-28T06:01:23.304659Z",
     "iopub.status.busy": "2020-10-28T06:01:23.304431Z",
     "iopub.status.idle": "2020-10-28T06:01:23.307739Z",
     "shell.execute_reply": "2020-10-28T06:01:23.307065Z",
     "shell.execute_reply.started": "2020-10-28T06:01:23.304635Z"
    }
   },
   "outputs": [],
   "source": [
    "val = [.77,.86,.54,.60,.85,.90,.84,.77]"
   ]
  },
  {
   "cell_type": "code",
   "execution_count": 219,
   "metadata": {
    "execution": {
     "iopub.execute_input": "2020-10-28T06:03:46.531284Z",
     "iopub.status.busy": "2020-10-28T06:03:46.531068Z",
     "iopub.status.idle": "2020-10-28T06:03:46.789521Z",
     "shell.execute_reply": "2020-10-28T06:03:46.788538Z",
     "shell.execute_reply.started": "2020-10-28T06:03:46.531263Z"
    }
   },
   "outputs": [
    {
     "ename": "AttributeError",
     "evalue": "'list' object has no attribute 'savefig'",
     "output_type": "error",
     "traceback": [
      "\u001b[0;31m---------------------------------------------------------------------------\u001b[0m",
      "\u001b[0;31mAttributeError\u001b[0m                            Traceback (most recent call last)",
      "\u001b[0;32m<ipython-input-219-2b4a16be6ca4>\u001b[0m in \u001b[0;36m<module>\u001b[0;34m\u001b[0m\n\u001b[1;32m      1\u001b[0m \u001b[0msns\u001b[0m\u001b[0;34m.\u001b[0m\u001b[0mset\u001b[0m\u001b[0;34m(\u001b[0m\u001b[0mrc\u001b[0m\u001b[0;34m=\u001b[0m\u001b[0;34m{\u001b[0m\u001b[0;34m'figure.figsize'\u001b[0m\u001b[0;34m:\u001b[0m\u001b[0;34m(\u001b[0m\u001b[0;36m11.7\u001b[0m\u001b[0;34m,\u001b[0m\u001b[0;36m8.27\u001b[0m\u001b[0;34m)\u001b[0m\u001b[0;34m}\u001b[0m\u001b[0;34m,\u001b[0m \u001b[0mfont_scale\u001b[0m \u001b[0;34m=\u001b[0m \u001b[0;36m1.8\u001b[0m\u001b[0;34m)\u001b[0m\u001b[0;34m\u001b[0m\u001b[0;34m\u001b[0m\u001b[0m\n\u001b[1;32m      2\u001b[0m \u001b[0mmodel_accuracy\u001b[0m \u001b[0;34m=\u001b[0m \u001b[0msns\u001b[0m\u001b[0;34m.\u001b[0m\u001b[0mbarplot\u001b[0m\u001b[0;34m(\u001b[0m\u001b[0mx\u001b[0m\u001b[0;34m=\u001b[0m\u001b[0mletter\u001b[0m\u001b[0;34m,\u001b[0m \u001b[0my\u001b[0m\u001b[0;34m=\u001b[0m\u001b[0mval\u001b[0m\u001b[0;34m,\u001b[0m \u001b[0mhue\u001b[0m\u001b[0;34m=\u001b[0m\u001b[0mclassifier\u001b[0m\u001b[0;34m)\u001b[0m\u001b[0;34m.\u001b[0m\u001b[0mset\u001b[0m\u001b[0;34m(\u001b[0m\u001b[0mylim\u001b[0m\u001b[0;34m=\u001b[0m\u001b[0;34m(\u001b[0m\u001b[0;36m0\u001b[0m\u001b[0;34m,\u001b[0m\u001b[0;36m1\u001b[0m\u001b[0;34m)\u001b[0m\u001b[0;34m)\u001b[0m\u001b[0;34m\u001b[0m\u001b[0;34m\u001b[0m\u001b[0m\n\u001b[0;32m----> 3\u001b[0;31m \u001b[0mmodel_accuracy\u001b[0m\u001b[0;34m.\u001b[0m\u001b[0msavefig\u001b[0m\u001b[0;34m(\u001b[0m\u001b[0;34m'model_accuracy.png'\u001b[0m\u001b[0;34m)\u001b[0m\u001b[0;34m\u001b[0m\u001b[0;34m\u001b[0m\u001b[0m\n\u001b[0m",
      "\u001b[0;31mAttributeError\u001b[0m: 'list' object has no attribute 'savefig'"
     ]
    },
    {
     "data": {
      "image/png": "[encoded data removed]",
      "text/plain": [
       "<Figure size 842.4x595.44 with 1 Axes>"
      ]
     },
     "metadata": {},
     "output_type": "display_data"
    }
   ],
   "source": [
    "\n",
    "sns.set(rc={'figure.figsize':(11.7,8.27)}, font_scale = 1.8)\n",
    "model_accuracy = sns.barplot(x=letter, y=val, hue=classifier).set(ylim=(0,1))\n",
    "model_accuracy.savefig('model_accuracy.png')"
   ]
  },
  {
   "cell_type": "code",
   "execution_count": null,
   "metadata": {},
   "outputs": [],
   "source": []
  }
 ],
 "metadata": {
  "kernelspec": {
   "display_name": "Python [conda env:metis] *",
   "language": "python",
   "name": "conda-env-metis-py"
  },
  "language_info": {
   "codemirror_mode": {
    "name": "ipython",
    "version": 3
   },
   "file_extension": ".py",
   "mimetype": "text/x-python",
   "name": "python",
   "nbconvert_exporter": "python",
   "pygments_lexer": "ipython3",
   "version": "3.8.5"
  }
 },
 "nbformat": 4,
 "nbformat_minor": 4
}
